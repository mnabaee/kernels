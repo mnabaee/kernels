{
 "cells": [
  {
   "cell_type": "code",
   "execution_count": null,
   "metadata": {
    "collapsed": true
   },
   "outputs": [],
   "source": [
    "import tensorflow as tf\n",
    "import numpy as np\n",
    "from numpy import matlib\n",
    "def innerPd(pt0, pt1):\n",
    "    return tf.mul(pt0[:,0],pt1[:,0]) + tf.mul(pt0[:,1],pt1[:,1])\n",
    "def projPt(lnPt0, lnPt1, pt):\n",
    "    pt = tf.sub(pt , lnPt0)\n",
    "    lnPt1 = tf.sub(lnPt1 , lnPt0)\n",
    "    lnLen = tf.sqrt(innerPd(lnPt1, lnPt1))\n",
    "    coefs3 = innerPd(pt, lnPt1)\n",
    "    coefs = tf.mul( tf.sign(coefs3) , tf.sqrt( tf.abs(coefs3) ) )\n",
    "    coefs2 = tf.div(coefs, lnLen)\n",
    "    dup1 = tf.pack([coefs2, coefs], axis = 1)\n",
    "    ppp = tf.mul( dup1  , lnPt1 /2) \n",
    "    pjs = lnPt0 + ppp\n",
    "    return pjs\n",
    "def distLmtd(lnPt0, lnPt1, pt):\n",
    "    pj = projPt(lnPt0, lnPt1, pt)\n",
    "    \n",
    "    dist1 = tf.sub(pt[0] , pj[:, 0])\n",
    "    dist1 = tf.pow(dist1, 2)\n",
    "    \n",
    "    dist2 = tf.sub(pt[1] , pj[:, 1])\n",
    "    dist2 = tf.pow(dist2, 2)\n",
    "    \n",
    "    dist = tf.pow(tf.add(dist1, dist2), 0.5)\n",
    "    \n",
    "    return (dist, pj)\n",
    "def closeTo(allMat, sign):\n",
    "    filter_ = tf.ones( [allMat.shape[0]])\n",
    "    filter_ = tf.equal(filter_, filter_ )\n",
    "    idRules = [[0,0],[0,2],[1,1],[1,3]]\n",
    "    for rule in idRules:\n",
    "        t1 = allMat[:, rule[1]] - sign[ rule[0] ]\n",
    "        t2 = tf.less( tf.abs( t1 ), 0.004 )\n",
    "        filter_ = tf.logical_and( filter_ , t2 )\n",
    "    inds_ = tf.where(filter_)\n",
    "\n",
    "    allMatTf = tf.constant(allMat)\n",
    "    ged_ = tf.gather(allMatTf, inds_)\n",
    "\n",
    "    ged_ = tf.reshape(ged_, [-1,4])\n",
    "    return ged_\n",
    "def findClosest(allPairsMat_, sign):\n",
    "    allPairsMat_ = closeTo(allPairsMat_, sign)\n",
    "    dists, pjs = distLmtd( allPairsMat_[:,0:2], allPairsMat_[:,2:4], sign )\n",
    "    minIdx = tf.argmin(dists, 0)\n",
    "    minDist = tf.gather(dists, minIdx)\n",
    "    minPair = tf.gather(allPairsMat_, minIdx)\n",
    "    minPjs = tf.gather(pjs, minIdx)\n",
    "    return ( minDist, minPair, minPjs, pjs, dists, allPairsMat_ )\n",
    "\n",
    "allPairsMat_ = np.load('allPairsMat.npy')\n",
    "def calcFunc(sign):\n",
    "    dist_, line_, _, _, _, _ = findClosest(allPairsMat_, sign)\n",
    "    return [dist_, line_[0], line_[1], line_[2], line_[3] ]\n",
    "\n",
    "import numpy as np\n",
    "import pandas as pd\n",
    "\n",
    "signals = pd.read_csv('signalisation.csv')\n",
    "signalCoordinates = np.matrix( [signals['Latitude'].values, signals['Longitude'].values] ).T\n",
    "\n",
    "def processJobAllS(jobAllS):\n",
    "    res = tf.map_fn( calcFunc , jobAllS, dtype=[tf.float64, tf.float64, tf.float64, tf.float64, tf.float64] )\n",
    "    return res\n",
    "\n",
    "in_vals = signalCoordinates[0:100, :]\n",
    "\n",
    "in_ = tf.placeholder(tf.float64, in_vals.shape)\n",
    "batchsize = int(in_vals.shape[0] / 2)\n",
    "with tf.device(\"/job:tf/task:0\"):\n",
    "    in_1 = in_[0:batchsize]\n",
    "    out_1 = processJobAllS(in_1)\n",
    "\n",
    "with tf.device(\"/job:tf/task:0\"):\n",
    "    in_2 = in_[batchsize:]\n",
    "    out_2 = processJobAllS(in_2)\n",
    "    out_ = tf.pack([out_1, out_2], axis = 0)\n",
    "    \n",
    "\n",
    "with tf.Session(\"grpc://tensorflow2:2222\") as sess:\n",
    "    out_vals = sess.run(out_, feed_dict={in_:in_vals})\n",
    "    \n",
    "#print(in_vals)\n",
    "#print(out_vals[0].T)\n",
    "print(out_vals.shape)"
   ]
  },
  {
   "cell_type": "code",
   "execution_count": 2,
   "metadata": {
    "collapsed": false
   },
   "outputs": [],
   "source": [
    "finalres = np.zeros([in_vals.shape[0], 5])\n",
    "batchSize = out_vals[0].shape[1]\n",
    "for i in range(out_vals.shape[0]):\n",
    "    finalres[batchSize*i:batchSize*(i+1), :] = np.asmatrix(out_vals[i].T)\n",
    "\n",
    "import folium\n",
    "%matplotlib inline\n",
    "map_ = folium.Map(location=[45.5017, -73.5673], zoom_start=11)\n",
    "tt = finalres\n",
    "for i in range(finalres.shape[0]):\n",
    "\n",
    "    signal_coor = (in_vals[i,0], in_vals[i,1])\n",
    "    \n",
    "    line = [(tt[i, 1], tt[i, 2]), (tt[i, 3], tt[i, 4])]\n",
    "    \n",
    "    folium.Marker(signal_coor, popup = 'sign' + str(i), icon = folium.Icon(color ='blue')).add_to(map_)\n",
    "    folium.PolyLine( line , color=\"red\", weight=2.5, opacity=1).add_to(map_)\n",
    "#map_\n"
   ]
  },
  {
   "cell_type": "markdown",
   "metadata": {
    "collapsed": false
   },
   "source": [
    "<img src=\"./closestSegments.bmp\">"
   ]
  }
 ],
 "metadata": {
  "kernelspec": {
   "display_name": "Python 3",
   "language": "python",
   "name": "python3"
  },
  "language_info": {
   "codemirror_mode": {
    "name": "ipython",
    "version": 3
   },
   "file_extension": ".py",
   "mimetype": "text/x-python",
   "name": "python",
   "nbconvert_exporter": "python",
   "pygments_lexer": "ipython3",
   "version": "3.5.2"
  }
 },
 "nbformat": 4,
 "nbformat_minor": 1
}
