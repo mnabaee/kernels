{
 "cells": [
  {
   "cell_type": "code",
   "execution_count": 1,
   "metadata": {
    "collapsed": false,
    "scrolled": false
   },
   "outputs": [
    {
     "name": "stdout",
     "output_type": "stream",
     "text": [
      "24678488\n",
      "Total Number of Parking Signs:  126360\n",
      "Number of valid signs in circle:  3068\n",
      "Counter({'green': 2167, 'orange': 901})\n",
      "plotting the result...\n"
     ]
    }
   ],
   "source": [
    "import numpy as np\n",
    "import pandas as pd\n",
    "from applySignRule import *\n",
    "import matplotlib.pyplot as plt\n",
    "from collections import Counter\n",
    "\n",
    "center_ = [45.470500, -73.627595]   #Center Point of the circle in which we show the results\n",
    "EPS_RADIUS = .02   #This is the radius around the center coordinate in which we show the results\n",
    "\n",
    "stTime = epochInMins() - 60*18\n",
    "stTime = 24625450  #Initial time at which you are looking for a parking spot (local epoch in minutes)\n",
    "du = 16*60   #The time duration in which you want to park (in minutes)\n",
    "\n",
    "parkingSigns = pd.read_pickle('parking_signs_processed.pkl')\n",
    "print('Total Number of Parking Signs: ',parkingSigns.shape[0])\n",
    "\n",
    "mask = np.power( np.power( parkingSigns['Latitude']-center_[0] ,2) + np.power(parkingSigns['Longitude']-center_[1], 2) , 0.5) < EPS_RADIUS\n",
    "mask = (parkingSigns['parsed'].str.len() > 0 ) & mask\n",
    "parkingSigns = parkingSigns[mask]\n",
    "print('Number of valid signs in circle: ', parkingSigns.shape[0])\n",
    "\n",
    "parkingSigns['finalrescolor'] = parkingSigns.apply(lambda x: applySign(x['parsed'], stTime, du), axis = 1)\n",
    "print(Counter(parkingSigns['finalrescolor']))\n",
    "\n",
    "import folium\n",
    "%matplotlib inline\n",
    "map_ = folium.Map(location=[45.5017, -73.5673], zoom_start=11)\n",
    "\n",
    "rescolors = ['green', 'orange', 'red']\n",
    "\n",
    "print('plotting the result...')\n",
    "for color_ in rescolors:\n",
    "    thisColorSigns = parkingSigns[parkingSigns['finalrescolor'] == color_]\n",
    "    thisColorSegments = []\n",
    "    for i in range(thisColorSigns.shape[0]):\n",
    "        row = thisColorSigns.iloc[i]\n",
    "        signal_coor = ( row['Latitude'], row['Longitude'] )\n",
    "        line = [(row['segmentX1'], row['segmentY1']), (row['segmentX2'], row['segmentY2']  )]\n",
    "               \n",
    "        folium.PolyLine( line , color=color_, weight=2.5, opacity=1).add_to(map_)\n",
    "#map_"
   ]
  },
  {
   "cell_type": "markdown",
   "metadata": {},
   "source": [
    "<img src=\"./finalres.png\">"
   ]
  },
  {
   "cell_type": "code",
   "execution_count": null,
   "metadata": {
    "collapsed": true
   },
   "outputs": [],
   "source": []
  }
 ],
 "metadata": {
  "kernelspec": {
   "display_name": "Python 3",
   "language": "python",
   "name": "python3"
  },
  "language_info": {
   "codemirror_mode": {
    "name": "ipython",
    "version": 3
   },
   "file_extension": ".py",
   "mimetype": "text/x-python",
   "name": "python",
   "nbconvert_exporter": "python",
   "pygments_lexer": "ipython3",
   "version": "3.5.2"
  }
 },
 "nbformat": 4,
 "nbformat_minor": 1
}
