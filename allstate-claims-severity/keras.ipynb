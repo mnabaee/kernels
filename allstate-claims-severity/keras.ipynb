{
 "cells": [
  {
   "cell_type": "markdown",
   "metadata": {},
   "source": [
    "This notebook implements a deep learning kernel using Keras with TensorFlow backend:\n",
    "- Loading the files into numpy arrays \n",
    "- Performing LabelEncoding on categorical fields\n",
    "- Building a deep model using Keras wrappers - model is: 130-1000-1000-500-100-20-1 dense model\n",
    "- Training the model using ADAM optimizer\n",
    "\n",
    "Although the results using this model are not as good as those using XGBoost in this other [notebook][1] https://www.kaggle.com/mnabaee/allstate-claims-severity/labelencoding-and-xgb-cv, it is a good starting point for deep models.\n"
   ]
  },
  {
   "cell_type": "code",
   "execution_count": null,
   "metadata": {
    "collapsed": false
   },
   "outputs": [],
   "source": [
    "import pandas as pd\n",
    "import numpy as np\n",
    "import matplotlib.pyplot as plt\n",
    "import sklearn\n",
    "from __future__ import absolute_import, division, print_function\n",
    "from keras.models import Sequential\n",
    "from keras.layers import Dense\n",
    "from keras.wrappers.scikit_learn import KerasRegressor\n",
    "from sklearn.pipeline import Pipeline\n",
    "from sklearn.preprocessing import StandardScaler\n",
    "from sklearn.model_selection import cross_val_score\n",
    "from sklearn.model_selection import KFold\n",
    "print('The scikit-learn version is {}.'.format(sklearn.__version__))"
   ]
  },
  {
   "cell_type": "code",
   "execution_count": null,
   "metadata": {
    "collapsed": true
   },
   "outputs": [],
   "source": [
    "#Load the training and test files\n",
    "df_train = pd.read_csv('../input/train.csv')\n",
    "df_test = pd.read_csv('../input/test.csv')\n",
    "print('training: ', df_train.shape)\n",
    "print('test: ', df_test.shape)"
   ]
  },
  {
   "cell_type": "code",
   "execution_count": null,
   "metadata": {
    "collapsed": true
   },
   "outputs": [],
   "source": [
    "#Convert to Numpy arrays and separate features/targets\n",
    "training_samples = df_train.as_matrix()\n",
    "training_targets = training_samples[:,-1]\n",
    "training_samples = training_samples[:,1:-1]\n",
    "\n",
    "test_samples = df_test.as_matrix()\n",
    "test_samples = test_samples[:,1:]\n",
    "\n",
    "#Encode the Labels of the categorical data\n",
    "from sklearn import preprocessing\n",
    "le = preprocessing.LabelEncoder()\n",
    "# [0:116]\n",
    "allLabels = np.concatenate( ( training_samples[:, 0:116].flat , test_samples[:, 0:116].flat ) )\n",
    "le.fit( allLabels )\n",
    "del allLabels\n",
    "#print(le.classes_)\n",
    "\n",
    "#Transform the labels to int values\n",
    "for colIndex in range(116):\n",
    "    training_samples[:, colIndex] = le.transform(training_samples[:, colIndex])\n",
    "    test_samples[:, colIndex] = le.transform( test_samples[:, colIndex] )"
   ]
  },
  {
   "cell_type": "code",
   "execution_count": null,
   "metadata": {
    "collapsed": true
   },
   "outputs": [],
   "source": [
    "#from keras.layers.normalization import BatchNormalization\n",
    "\n",
    "def larger_model():\n",
    "    model = Sequential()\n",
    "    model.add(Dense(1000, input_dim=130, init='normal', activation='relu'))\n",
    "    #model.add(BatchNormalization())\n",
    "    #model.add(Activation('relu'))\n",
    "    #model.add(Dropout(0.5))\n",
    "    \n",
    "    model.add(Dense(1000, init='normal', activation='relu'))\n",
    "    #model.add(BatchNormalization())\n",
    "    #model.add(Activation('relu'))\n",
    "    #model.add(Dropout(0.5))\n",
    "    \n",
    "    model.add(Dense(500, init='normal', activation='relu'))\n",
    "    #model.add(BatchNormalization())\n",
    "    #model.add(Activation('relu'))\n",
    "    #model.add(Dropout(0.5))\n",
    "    \n",
    "    model.add(Dense(100, init='normal', activation='relu'))\n",
    "    \n",
    "    model.add(Dense(20, init='normal', activation='relu'))\n",
    "    #model.add(BatchNormalization())\n",
    "    #model.add(Activation('relu'))\n",
    "    #model.add(Dropout(0.5))\n",
    "    \n",
    "    model.add(Dense(1, init='normal'))\n",
    "    #model.add(BatchNormalization())\n",
    "    #model.add(Activation('relu'))\n",
    "    #model.add(Dropout(0.5))\n",
    "\n",
    "    model.compile(loss='mean_absolute_error', optimizer='adam')\n",
    "    return model"
   ]
  },
  {
   "cell_type": "code",
   "execution_count": null,
   "metadata": {
    "collapsed": true
   },
   "outputs": [],
   "source": [
    "np.random.seed(0)\n",
    "\n",
    "\n",
    "estimators = []\n",
    "estimators.append(('standardize', StandardScaler()))\n",
    "estimators.append(('mlp', KerasRegressor(build_fn=larger_model, nb_epoch=20, batch_size=50, verbose=1)))\n",
    "pipeline = Pipeline(estimators)\n",
    "\n",
    "#Uncomment the following line to run fitting and prediction phases\n",
    "#The fitting will take a very long time\n",
    "pipeline.fit(training_samples, training_targets)\n",
    "pred_targets = pipeline.predict(test_samples)"
   ]
  }
 ],
 "metadata": {
  "kernelspec": {
   "display_name": "Python 3",
   "language": "python",
   "name": "python3"
  },
  "language_info": {
   "codemirror_mode": {
    "name": "ipython",
    "version": 3
   },
   "file_extension": ".py",
   "mimetype": "text/x-python",
   "name": "python",
   "nbconvert_exporter": "python",
   "pygments_lexer": "ipython3",
   "version": "3.5.2"
  }
 },
 "nbformat": 4,
 "nbformat_minor": 0
}
