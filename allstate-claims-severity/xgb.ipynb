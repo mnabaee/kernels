{
 "cells": [
  {
   "cell_type": "markdown",
   "metadata": {
    "_cell_guid": "2cb12e08-8869-a78a-9f0d-8a88c59d1b2a"
   },
   "source": [
    "This notebook will do the following:\n",
    "- Load the training and test data into a dataframe\n",
    "- Convert them to numpy arrays\n",
    "- Converting the categorical fields to integer values \n",
    "- Transforming skewed numeric features using [BoxCox Transform][1]\n",
    "- Training an XGB model from the training data using cross-validation\n",
    "- Applying the trained model on the test data and saving the results to a csv file\n",
    "\n",
    "\n",
    "  [1]: http://onlinestatbook.com/2/transformations/box-cox.html"
   ]
  },
  {
   "cell_type": "code",
   "execution_count": 1,
   "metadata": {
    "_cell_guid": "4530b983-3762-2207-73dd-17276fe12535"
   },
   "outputs": [
    {
     "name": "stdout",
     "output_type": "stream",
     "text": [
      "The scikit-learn version is 0.19.dev0.\n"
     ]
    }
   ],
   "source": [
    "import pandas as pd\n",
    "import numpy as np\n",
    "import matplotlib.pyplot as plt\n",
    "import sklearn\n",
    "print('The scikit-learn version is {}.'.format(sklearn.__version__))"
   ]
  },
  {
   "cell_type": "code",
   "execution_count": 2,
   "metadata": {
    "_cell_guid": "c64fa883-d6b8-67b7-c0a2-d3f0fc57789c"
   },
   "outputs": [
    {
     "name": "stdout",
     "output_type": "stream",
     "text": [
      "training:  (188318, 132)\n",
      "test:  (125546, 131)\n"
     ]
    }
   ],
   "source": [
    "#Load the training and test files\n",
    "df_train = pd.read_csv('../input/train.csv')\n",
    "df_test = pd.read_csv('../input/test.csv')\n",
    "print('training: ', df_train.shape)\n",
    "print('test: ', df_test.shape)"
   ]
  },
  {
   "cell_type": "code",
   "execution_count": 3,
   "metadata": {
    "_cell_guid": "62e20752-eb29-aed0-516d-d1551c15bc54"
   },
   "outputs": [],
   "source": [
    "#Convert to Numpy arrays and separate features/targets\n",
    "training_samples = df_train.as_matrix()\n",
    "training_targets = training_samples[:,-1]\n",
    "training_samples = training_samples[:,1:-1]\n",
    "\n",
    "test_samples = df_test.as_matrix()\n",
    "test_samples = test_samples[:,1:]"
   ]
  },
  {
   "cell_type": "code",
   "execution_count": 4,
   "metadata": {
    "_cell_guid": "d42bc66f-940c-10d6-c07b-5995416e5e3d"
   },
   "outputs": [
    {
     "data": {
      "image/png": "[encoded data removed]",
      "text/plain": [
       "<matplotlib.figure.Figure at 0x7f8cb0f21d68>"
      ]
     },
     "metadata": {},
     "output_type": "display_data"
    }
   ],
   "source": [
    "plt.hist(training_targets[np.where(training_targets < 15000)], bins = 200, color='r', normed=True)\n",
    "plt.grid(True)\n",
    "plt.xlabel('Target Value')\n",
    "plt.ylabel('Normalized Frequency')\n",
    "plt.title('Distribution of target values from training set.')\n",
    "plt.show()"
   ]
  },
  {
   "cell_type": "code",
   "execution_count": 5,
   "metadata": {
    "_cell_guid": "8a20aa66-a8bf-f7ca-901e-db2756b9722a"
   },
   "outputs": [
    {
     "name": "stdout",
     "output_type": "stream",
     "text": [
      "['A' 'AA' 'AB' 'AC' 'AD' 'AE' 'AF' 'AG' 'AH' 'AI' 'AJ' 'AK' 'AL' 'AM' 'AN'\n",
      " 'AO' 'AP' 'AQ' 'AR' 'AS' 'AT' 'AU' 'AV' 'AW' 'AX' 'AY' 'B' 'BA' 'BB' 'BC'\n",
      " 'BD' 'BE' 'BF' 'BG' 'BH' 'BI' 'BJ' 'BK' 'BL' 'BM' 'BN' 'BO' 'BP' 'BQ' 'BR'\n",
      " 'BS' 'BT' 'BU' 'BV' 'BW' 'BX' 'BY' 'C' 'CA' 'CB' 'CC' 'CD' 'CE' 'CF' 'CG'\n",
      " 'CH' 'CI' 'CJ' 'CK' 'CL' 'CM' 'CN' 'CO' 'CP' 'CQ' 'CR' 'CS' 'CT' 'CU' 'CV'\n",
      " 'CW' 'CX' 'CY' 'D' 'DA' 'DB' 'DC' 'DD' 'DE' 'DF' 'DG' 'DH' 'DI' 'DJ' 'DK'\n",
      " 'DL' 'DM' 'DN' 'DO' 'DP' 'DQ' 'DR' 'DS' 'DT' 'DU' 'DV' 'DW' 'DX' 'DY' 'E'\n",
      " 'EA' 'EB' 'EC' 'ED' 'EE' 'EF' 'EG' 'EH' 'EI' 'EJ' 'EK' 'EL' 'EM' 'EN' 'EO'\n",
      " 'EP' 'EQ' 'ER' 'ES' 'ET' 'EU' 'EV' 'EW' 'EX' 'EY' 'F' 'FA' 'FB' 'FC' 'FD'\n",
      " 'FE' 'FF' 'FG' 'FH' 'FI' 'FJ' 'FK' 'FL' 'FM' 'FN' 'FO' 'FP' 'FQ' 'FR' 'FS'\n",
      " 'FT' 'FU' 'FV' 'FW' 'FX' 'FY' 'G' 'GA' 'GB' 'GC' 'GD' 'GE' 'GF' 'GG' 'GH'\n",
      " 'GI' 'GJ' 'GK' 'GL' 'GM' 'GN' 'GO' 'GP' 'GQ' 'GR' 'GS' 'GT' 'GU' 'GV' 'GW'\n",
      " 'GX' 'GY' 'H' 'HA' 'HB' 'HC' 'HD' 'HE' 'HF' 'HG' 'HH' 'HI' 'HJ' 'HK' 'HL'\n",
      " 'HM' 'HN' 'HO' 'HP' 'HQ' 'HR' 'HS' 'HT' 'HU' 'HV' 'HW' 'HX' 'HY' 'I' 'IA'\n",
      " 'IB' 'IC' 'ID' 'IE' 'IF' 'IG' 'IH' 'II' 'IJ' 'IK' 'IL' 'IM' 'IN' 'IO' 'IP'\n",
      " 'IQ' 'IR' 'IS' 'IT' 'IU' 'IV' 'IW' 'IX' 'IY' 'J' 'JA' 'JB' 'JC' 'JD' 'JE'\n",
      " 'JF' 'JG' 'JH' 'JI' 'JJ' 'JK' 'JL' 'JM' 'JN' 'JO' 'JP' 'JQ' 'JR' 'JS' 'JT'\n",
      " 'JU' 'JV' 'JW' 'JX' 'JY' 'K' 'KA' 'KB' 'KC' 'KD' 'KE' 'KF' 'KG' 'KH' 'KI'\n",
      " 'KJ' 'KK' 'KL' 'KM' 'KN' 'KO' 'KP' 'KQ' 'KR' 'KS' 'KT' 'KU' 'KV' 'KW' 'KX'\n",
      " 'KY' 'L' 'LA' 'LB' 'LC' 'LD' 'LE' 'LF' 'LG' 'LH' 'LI' 'LJ' 'LK' 'LL' 'LM'\n",
      " 'LN' 'LO' 'LP' 'LQ' 'LR' 'LS' 'LT' 'LU' 'LV' 'LW' 'LX' 'LY' 'M' 'MA' 'MB'\n",
      " 'MC' 'MD' 'ME' 'MF' 'MG' 'MH' 'MI' 'MJ' 'MK' 'ML' 'MM' 'MN' 'MO' 'MP' 'MQ'\n",
      " 'MR' 'MS' 'MT' 'MU' 'MV' 'MW' 'MX' 'N' 'O' 'P' 'Q' 'R' 'S' 'T' 'U' 'V' 'W'\n",
      " 'X' 'Y' 'ZZ']\n"
     ]
    }
   ],
   "source": [
    "#Encode the Labels of the categorical data\n",
    "from sklearn import preprocessing\n",
    "le = preprocessing.LabelEncoder()\n",
    "# [0:116]\n",
    "allLabels = np.concatenate( ( training_samples[:, 0:116].flat , test_samples[:, 0:116].flat ) )\n",
    "le.fit( allLabels )\n",
    "del allLabels\n",
    "print(le.classes_)"
   ]
  },
  {
   "cell_type": "code",
   "execution_count": 6,
   "metadata": {
    "_cell_guid": "58ba15ca-bf0c-cbfb-d683-398d542331a5"
   },
   "outputs": [],
   "source": [
    "#Transform the labels to int values\n",
    "for colIndex in range(116):\n",
    "    training_samples[:, colIndex] = le.transform(training_samples[:, colIndex])\n",
    "    test_samples[:, colIndex] = le.transform( test_samples[:, colIndex] )"
   ]
  },
  {
   "cell_type": "code",
   "execution_count": 7,
   "metadata": {
    "_cell_guid": "b8d42283-51f6-3715-af1e-58e26f4aceec"
   },
   "outputs": [
    {
     "name": "stdout",
     "output_type": "stream",
     "text": [
      "(188318, 130)\n",
      "(125546, 130)\n"
     ]
    }
   ],
   "source": [
    "training_samples = training_samples.astype(np.float)\n",
    "test_samples = test_samples.astype(np.float)\n",
    "print(training_samples.shape)\n",
    "print(test_samples.shape)"
   ]
  },
  {
   "cell_type": "code",
   "execution_count": 8,
   "metadata": {
    "_cell_guid": "507d062f-2bb1-c983-4bee-00c811d141e4"
   },
   "outputs": [
    {
     "name": "stdout",
     "output_type": "stream",
     "text": [
      "0.5132045516224302\n",
      "-0.3111459534834093\n",
      "0.4175592980041423\n",
      "0.6796104054320997\n",
      "0.4584132996748133\n",
      "0.8258887877150827\n",
      "0.6732370781128026\n",
      "1.0672469175159112\n",
      "0.3521162964205932\n",
      "0.28113943445571493\n",
      "0.291996918746914\n",
      "0.37613775584226605\n",
      "0.25067316370158266\n"
     ]
    }
   ],
   "source": [
    "from scipy.stats import skew, boxcox\n",
    "#Calculate the skew of the features\n",
    "for featureIdx in range( training_samples.shape[1] ):\n",
    "    train_test_feature_values = np.concatenate( (training_samples[:,featureIdx], test_samples[:,featureIdx] ), axis=0 )\n",
    "    skew_ = skew(train_test_feature_values )\n",
    "    #Transform the numeric features with high skew values\n",
    "    if abs(skew_) > 0.25 and featureIdx >= 116:\n",
    "        print(skew_)\n",
    "        train_test_feature_values = train_test_feature_values + 1\n",
    "        transformed_feature_values, lm = boxcox( train_test_feature_values )\n",
    "        training_samples[:,featureIdx] = transformed_feature_values[0:training_samples.shape[0]]\n",
    "        test_samples[:,featureIdx] = transformed_feature_values[training_samples.shape[0]:]\n",
    "        "
   ]
  },
  {
   "cell_type": "code",
   "execution_count": 9,
   "metadata": {
    "_cell_guid": "bea21453-15c9-e5b3-1480-4f7c5aa28852"
   },
   "outputs": [
    {
     "name": "stderr",
     "output_type": "stream",
     "text": [
      "/opt/conda/lib/python3.5/site-packages/sklearn/cross_validation.py:44: DeprecationWarning: This module was deprecated in version 0.18 in favor of the model_selection module into which all the refactored classes and functions are moved. Also note that the interface of the new CV iterators are different from that of this module. This module will be removed in 0.20.\n",
      "  \"This module will be removed in 0.20.\", DeprecationWarning)\n"
     ]
    },
    {
     "name": "stdout",
     "output_type": "stream",
     "text": [
      "[0]\ttrain-mae:3006.52+4.19215\ttest-mae:3006.51+12.6596\n",
      "[50]\ttrain-mae:1891.38+2.69179\ttest-mae:1893.08+11.4718\n",
      "[100]\ttrain-mae:1450.83+2.38533\ttest-mae:1457.04+9.00149\n",
      "[150]\ttrain-mae:1299.3+1.80671\ttest-mae:1311.05+7.41516\n",
      "[200]\ttrain-mae:1244.56+2.34512\ttest-mae:1261.66+5.01381\n",
      "[250]\ttrain-mae:1221.34+2.62783\ttest-mae:1243.14+3.96016\n",
      "[300]\ttrain-mae:1207.92+2.6762\ttest-mae:1233.79+3.29406\n",
      "[350]\ttrain-mae:1197.09+2.41537\ttest-mae:1226.78+3.17281\n",
      "[400]\ttrain-mae:1187.56+2.10243\ttest-mae:1220.63+3.26171\n",
      "[450]\ttrain-mae:1178.84+2.11157\ttest-mae:1215.11+3.29127\n",
      "[500]\ttrain-mae:1170.92+2.00997\ttest-mae:1210.18+3.35996\n",
      "[550]\ttrain-mae:1163.63+1.88759\ttest-mae:1205.88+3.17726\n",
      "[600]\ttrain-mae:1157.04+1.94609\ttest-mae:1202.01+3.06477\n",
      "[650]\ttrain-mae:1151.12+2.00395\ttest-mae:1198.76+2.92727\n",
      "[700]\ttrain-mae:1145.75+1.86283\ttest-mae:1195.95+3.00644\n",
      "[750]\ttrain-mae:1140.9+1.97652\ttest-mae:1193.51+2.80633\n",
      "[800]\ttrain-mae:1136.59+2.06312\ttest-mae:1191.38+2.60637\n",
      "[850]\ttrain-mae:1132.73+2.0473\ttest-mae:1189.62+2.51993\n",
      "[900]\ttrain-mae:1129.11+2.02211\ttest-mae:1188.1+2.52262\n",
      "[950]\ttrain-mae:1125.81+1.96377\ttest-mae:1186.82+2.49875\n",
      "[1000]\ttrain-mae:1122.51+1.91638\ttest-mae:1185.63+2.4694\n",
      "[1050]\ttrain-mae:1119.49+1.83347\ttest-mae:1184.54+2.58572\n",
      "[1100]\ttrain-mae:1116.52+1.75056\ttest-mae:1183.56+2.63519\n",
      "[1150]\ttrain-mae:1113.79+1.70153\ttest-mae:1182.71+2.62816\n",
      "[1200]\ttrain-mae:1111.24+1.62072\ttest-mae:1182+2.64509\n",
      "[1250]\ttrain-mae:1108.76+1.66054\ttest-mae:1181.33+2.61933\n",
      "[1300]\ttrain-mae:1106.43+1.55827\ttest-mae:1180.71+2.61612\n",
      "[1350]\ttrain-mae:1104.13+1.52093\ttest-mae:1180.1+2.6351\n",
      "[1400]\ttrain-mae:1102.05+1.49382\ttest-mae:1179.6+2.66255\n",
      "[1450]\ttrain-mae:1099.89+1.45097\ttest-mae:1179.12+2.65992\n",
      "[1500]\ttrain-mae:1097.83+1.4091\ttest-mae:1178.69+2.67713\n",
      "[1550]\ttrain-mae:1095.85+1.48047\ttest-mae:1178.32+2.72968\n",
      "[1600]\ttrain-mae:1093.88+1.38243\ttest-mae:1177.94+2.73948\n",
      "[1650]\ttrain-mae:1092.02+1.38196\ttest-mae:1177.64+2.77413\n",
      "[1700]\ttrain-mae:1090.2+1.29739\ttest-mae:1177.35+2.82899\n",
      "[1750]\ttrain-mae:1088.39+1.27728\ttest-mae:1177.04+2.84414\n",
      "[1800]\ttrain-mae:1086.51+1.2755\ttest-mae:1176.77+2.81534\n",
      "[1850]\ttrain-mae:1084.7+1.19466\ttest-mae:1176.51+2.82801\n",
      "[1900]\ttrain-mae:1082.94+1.10913\ttest-mae:1176.22+2.84793\n",
      "[1950]\ttrain-mae:1081.23+1.0688\ttest-mae:1176+2.85082\n",
      "[2000]\ttrain-mae:1079.43+1.04119\ttest-mae:1175.75+2.95032\n",
      "finished cv.\n"
     ]
    },
    {
     "data": {
      "image/png": "[encoded data removed]",
      "text/plain": [
       "<matplotlib.figure.Figure at 0x7f8c7ee1ddd8>"
      ]
     },
     "metadata": {},
     "output_type": "display_data"
    }
   ],
   "source": [
    "#Train and Cross-Validate using the splits\n",
    "#We will use xgb for regression with CV for grid search\n",
    "import xgboost as xgb\n",
    "\n",
    "#The parameters are taken from these two kernels: \n",
    "#    https://www.kaggle.com/mmueller/allstate-claims-severity/stacking-starter, \n",
    "#    https://www.kaggle.com/tilii7/allstate-claims-severity/bias-correction-xgboost\n",
    "# with minor changes\n",
    "xgb_params = {\n",
    "    'seed': 0,\n",
    "    'colsample_bytree': 0.3085,\n",
    "    'silent': 1,\n",
    "    'subsample': 0.7,\n",
    "    'learning_rate': 0.01,\n",
    "    'objective': 'reg:linear',\n",
    "    'max_depth': 7,\n",
    "    'num_parallel_tree': 1,\n",
    "    'min_child_weight': 4.2922,\n",
    "    'eval_metric': 'mae',\n",
    "    'eta':0.1,\n",
    "    'gamma': 0.5290,\n",
    "    'subsample':0.9930,\n",
    "    'max_delta_step':0,\n",
    "    'booster':'gbtree',\n",
    "    'nrounds': 1001\n",
    "}\n",
    "\n",
    "dtrain = xgb.DMatrix( training_samples, label=training_targets)\n",
    "xgb_cv_res = xgb.cv(xgb_params, dtrain, num_boost_round=2001, nfold=4, seed = 0, stratified=False,\n",
    "             early_stopping_rounds=25, verbose_eval=50, show_stdv=True)\n",
    "\n",
    "print('finished cv.')\n",
    "xgb_cv_res.plot(y=['test-mae-mean', 'train-mae-mean'], grid=True, logx=True)\n",
    "plt.xlabel('Round')\n",
    "plt.ylabel('mae')\n",
    "plt.show()\n",
    "\n",
    "best_nrounds = xgb_cv_res.shape[0] - 1\n",
    "xgb_best = xgb.train(xgb_params, dtrain, best_nrounds)   "
   ]
  },
  {
   "cell_type": "code",
   "execution_count": 10,
   "metadata": {
    "_cell_guid": "34b15a68-5b46-090d-6bb6-9ca5ca7a7b84"
   },
   "outputs": [
    {
     "name": "stdout",
     "output_type": "stream",
     "text": [
      "[ 1740.4420166   2145.25512695  9947.02832031 ...,  2843.63427734\n",
      "  1283.19213867  3673.63110352]\n"
     ]
    }
   ],
   "source": [
    "#Predit for the test data\n",
    "dtest = xgb.DMatrix( test_samples)\n",
    "pred_test = xgb_best.predict(dtest)\n",
    "print(pred_test)"
   ]
  },
  {
   "cell_type": "code",
   "execution_count": 11,
   "metadata": {
    "_cell_guid": "c3815dab-a05e-a923-a6e5-21fe01cc0de7"
   },
   "outputs": [
    {
     "name": "stdout",
     "output_type": "stream",
     "text": [
      "id         4.000000\n",
      "loss    1740.442017\n",
      "Name: 0, dtype: float32\n"
     ]
    }
   ],
   "source": [
    "#Save results to csv file\n",
    "df_res = pd.DataFrame(df_test, columns=['id'])\n",
    "df_res['loss'] = pred_test\n",
    "print(df_res.iloc[0])\n",
    "df_res.to_csv('result.csv', index=False)"
   ]
  }
 ],
 "metadata": {
  "_change_revision": 48,
  "_is_fork": false,
  "kernelspec": {
   "display_name": "Python 3",
   "language": "python",
   "name": "python3"
  },
  "language_info": {
   "codemirror_mode": {
    "name": "ipython",
    "version": 3
   },
   "file_extension": ".py",
   "mimetype": "text/x-python",
   "name": "python",
   "nbconvert_exporter": "python",
   "pygments_lexer": "ipython3",
   "version": "3.5.2"
  }
 },
 "nbformat": 4,
 "nbformat_minor": 0
}
