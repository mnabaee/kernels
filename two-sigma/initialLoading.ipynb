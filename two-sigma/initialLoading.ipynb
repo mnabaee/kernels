{
 "cells": [
  {
   "cell_type": "code",
   "execution_count": null,
   "metadata": {
    "collapsed": false,
    "scrolled": true
   },
   "outputs": [],
   "source": [
    "import numpy as np\n",
    "import pandas as pd\n",
    "import matplotlib.pyplot as plt\n",
    "%matplotlib inline\n",
    "\n",
    "with pd.HDFStore(\"train.h5\", \"r\") as train:\n",
    "    df = train.get(\"train\")\n",
    "\n",
    "print('shape of data: ', df.shape)\n",
    "df.set_index('id', inplace=True)\n",
    "#df.head()"
   ]
  },
  {
   "cell_type": "code",
   "execution_count": null,
   "metadata": {
    "collapsed": false
   },
   "outputs": [],
   "source": [
    "print('Number of NaN cells: ',df.isnull().sum().sum())\n",
    "print('Total Number of cells: ', df.shape[0]*df.shape[1])"
   ]
  },
  {
   "cell_type": "code",
   "execution_count": null,
   "metadata": {
    "collapsed": false
   },
   "outputs": [],
   "source": [
    "print(len(df.index.unique()))\n",
    "for i, id_ in enumerate(df.index.unique()):\n",
    "    if (i+1)% 10 == 0:\n",
    "        print(i)\n",
    "    df.loc[id_].fillna(df.loc[id_].mean(), inplace=True)\n",
    "    #break\n",
    "\n",
    "#df.fillna(df.mean(), inplace=True)\n",
    "#df.groupby('id').apply(lambda group: group.interpolate(method='index'))\n",
    "#df.groupby('id').transform(lambda x: x.fillna(x.mean()), inplace=True)"
   ]
  },
  {
   "cell_type": "code",
   "execution_count": null,
   "metadata": {
    "collapsed": false
   },
   "outputs": [],
   "source": [
    "from sklearn import preprocessing\n",
    "featureScaler = dict()\n",
    "#featureCols = df.columns.values[2:-1]\n",
    "\n",
    "#featureScaler = preprocessing.StandardScaler().fit( df[featureCols] )\n",
    "#df[featureCols] = featureScaler.transform( df[featureCols] )\n",
    "\n",
    "for col in df.columns.values[2:-1]:\n",
    "    featureScaler[col] = preprocessing.StandardScaler().fit( df[col].values.reshape(-1, 1) )\n",
    "    df[col] = featureScaler[col].transform( df[col].reshape(-1, 1) )\n"
   ]
  },
  {
   "cell_type": "code",
   "execution_count": null,
   "metadata": {
    "collapsed": false
   },
   "outputs": [],
   "source": [
    "df.shape"
   ]
  },
  {
   "cell_type": "code",
   "execution_count": null,
   "metadata": {
    "collapsed": false
   },
   "outputs": [],
   "source": [
    "df[df['id'] ==  10].plot(kind='line', x='timestamp', y='derived_0', grid=True, title='derived_0')\n",
    "df[df['id'] ==  10].plot(kind='line', x='timestamp', y='derived_1', grid=True, title='derived_1')"
   ]
  },
  {
   "cell_type": "code",
   "execution_count": null,
   "metadata": {
    "collapsed": true
   },
   "outputs": [],
   "source": []
  }
 ],
 "metadata": {
  "kernelspec": {
   "display_name": "Python 3",
   "language": "python",
   "name": "python3"
  },
  "language_info": {
   "codemirror_mode": {
    "name": "ipython",
    "version": 3
   },
   "file_extension": ".py",
   "mimetype": "text/x-python",
   "name": "python",
   "nbconvert_exporter": "python",
   "pygments_lexer": "ipython3",
   "version": "3.5.2"
  }
 },
 "nbformat": 4,
 "nbformat_minor": 1
}
