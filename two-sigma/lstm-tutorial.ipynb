{
 "cells": [
  {
   "cell_type": "markdown",
   "metadata": {},
   "source": [
    "# A Quick Hands-On Tutorial on LSTM for Multi-Input Time-Series Regression\n",
    "\n",
    "In this notebook, you can find a brief tutorial on how to use LSTM for a simple regression problem. The following topics will be covered and hopefully at the end you will be able to use it for your own applications:\n",
    "* Understanding the time-series models with multiple input features\n",
    "* Very brief overview of LSTM units\n",
    "* Creating a neural network model based on LSTMs\n",
    "* Training an LSTM based neural network\n",
    "* using the model to predict the output using the time-series inputs\n",
    "\n",
    "\n",
    "The tutorial will cover the implementation using Keras (and TensorFlow as the backend).\n",
    "You will be walked through all of the above via a simple regression example."
   ]
  },
  {
   "cell_type": "markdown",
   "metadata": {},
   "source": [
    "## Understanding a time-series model\n",
    "\n",
    "In a usual regression problem, the real-valued output is a function of a number of input feature values. in a time-series, the output value depends on both the input feature values and the state at the previous time step.\n",
    "\n",
    "In below, we randomly generate a time-series with two input values.\n",
    "As you can see, the output value at time `t`, `Y[t]` is a function of the input value at time `t` and `t-1` i.e. `X1[t]` and `X1[t-1]`.\n",
    "\n",
    "Although this is a very simple case and you can predict the value of `Y[t]` from `X1[t]`, in some cases the time dependency should also be used. \n",
    "For the purpose of this tutorial, we focus on predicting the `Y[t]` from `X[t],...,X[t-T]` where `T` is the size of time window used for the prediction."
   ]
  },
  {
   "cell_type": "code",
   "execution_count": 1,
   "metadata": {
    "collapsed": false
   },
   "outputs": [
    {
     "data": {
      "image/png": "[encoded data removed]",
      "text/plain": [
       "<matplotlib.figure.Figure at 0x7f1d74083e10>"
      ]
     },
     "metadata": {},
     "output_type": "display_data"
    }
   ],
   "source": [
    "import numpy as np\n",
    "import matplotlib.pyplot as plt\n",
    "%matplotlib inline\n",
    "\n",
    "Y = np.zeros(1000)\n",
    "X1 = np.zeros(1000)\n",
    "X2 = np.random.randn(1000)\n",
    "for t in range(1000):\n",
    "    X1[t] = t / 10\n",
    "    Y[t] =  np.sin(X1[t]/5) * X1[t]\n",
    "    if t > 0:\n",
    "        Y[t] += X1[t-1]\n",
    "\n",
    "X = np.stack((X1, X2), axis = 1)\n",
    "        \n",
    "plt.plot(X1, Y, 'r.')\n",
    "plt.plot(X2, Y, 'b.')\n",
    "plt.xlabel('X1, X2')\n",
    "plt.ylabel('Y')\n",
    "plt.legend(['Y vs X1', 'Y vs X2'])\n",
    "plt.grid(True)"
   ]
  },
  {
   "cell_type": "markdown",
   "metadata": {},
   "source": [
    "## Overview of LSTM\n",
    "\n",
    "The Long-Short Term Memory (LSTM) is a special structure (shown in figure below) of the recurrent networks where the long term memory problem (caused as a result of fading gradients) is addressed by gating the feedback path.\n",
    "The LSTM is now widely used in natural language processing applications where a sequence of input features is available. \n",
    "\n",
    "Taken from [this complete introduction to LSTM](http://colah.github.io/posts/2015-08-Understanding-LSTMs/),\n",
    "an unrolled version of an LSTM unit is shown below.\n",
    "\n",
    "[<img src=\"LSTM3-chain.png\" width=\"550\"/>](http://colah.github.io/posts/2015-08-Understanding-LSTMs/)\n",
    "\n",
    "\n"
   ]
  },
  {
   "cell_type": "markdown",
   "metadata": {},
   "source": [
    "## Creating a neural network model based on LSTMs using Keras\n",
    "\n",
    "Keras is a wrapper package for Theano and TensorFlow which makes it easier to implement complicated network structures by providing a very abstract API. \n",
    "Using the `Sequential` API in Keras, we can make a neural network by adding different layers together:\n",
    "```\n",
    "model = Sequential([\n",
    "    LSTM(100, return_sequences=True, input_shape=(timesteps, 2)),\n",
    "    LSTM(60),\n",
    "    Dense(1),\n",
    "])\n",
    "\n",
    "```\n",
    "In the above example, a sequential model is built by adding two LSTM layers and a dense layer together.\n",
    "Keras has a rich list of layers including [Densely connected](https://keras.io/layers/core/), [Convolutional](https://keras.io/layers/convolutional/), [Recurrent](https://keras.io/layers/recurrent/), [Embedding](https://keras.io/layers/embeddings/) and etc.\n",
    "\n",
    "### LSTM Layer\n",
    "The implementation of LSTM in Keras includes the following arguments:\n",
    "* `return_sequences`: This specifies if the layer should return a sequence of output values or only the values for the last time step. In case there is another recurrent layer after this layer, you need to set this option True so that the next recurrent layer receives a sequence as its input (see the example above)\n",
    "* `stateful`: This option will determine if the inner state of LSTM for the previous batch is used as initial value for the state of LSTM in the current batch of sample. This will be discussed in the following section.\n",
    "* `input_shape`: This is the dimension of the input to the layer and has to be set if this is the very first layer of the network. If your problem is such that you have `num_features` input values for each time step and you have `time_steps` previous time steps for prediction of the current output, your input shape should be `[time_steps, num_features]`.\n",
    "* `input_length1`/`input_dim`: This is an alternative way to represent the input shape of the layer. The length will determine the length of the time-sequence and the dimension will specify the number of input features.\n",
    "* `output_dim`: This determines the number of output values from this layer. Essentially, this is exactly the number of units in the LSTM layer. \n",
    "* `init`/`inner_init`: This is the function which initializes the weights and inner cells (states), respectively. The default valut is `glorot_uniform` for weights and you can pick one from [this list](https://keras.io/initializations/).\n",
    "* `activation`: ?\n",
    "* `inner_activation`: ?\n",
    "\n",
    "The `compile` method will finally create the necessary tensors for the calculations of the model.\n",
    "You can specify your own loss and optimization algorithm for the training stage when calling the `compile` method. \n",
    "In our case of regression, the mean squared error is an appropriate loss function and we plan to use the ADAM algorithm for training of our model.\n",
    "To get familir with different optimization algorithms for training, you can read [this article](http://sebastianruder.com/optimizing-gradient-descent/index.html)."
   ]
  },
  {
   "cell_type": "code",
   "execution_count": 2,
   "metadata": {
    "collapsed": false
   },
   "outputs": [
    {
     "name": "stderr",
     "output_type": "stream",
     "text": [
      "Using TensorFlow backend.\n"
     ]
    }
   ],
   "source": [
    "from keras.models import Sequential\n",
    "from keras.layers import Dense, Activation, LSTM\n",
    "\n",
    "timesteps = 5\n",
    "\n",
    "model = Sequential([\n",
    "    LSTM(100, return_sequences=True, input_shape=(timesteps, 2)),\n",
    "    LSTM(60),\n",
    "    #LSTM(100),\n",
    "    Dense(1),\n",
    "])\n",
    "\n",
    "model.compile(loss='mean_squared_error', optimizer='adam')"
   ]
  },
  {
   "cell_type": "markdown",
   "metadata": {},
   "source": [
    "## Training the LSTM based networks\n",
    "\n",
    "\n",
    "### Feature Scaling\n",
    "\n",
    "### Building the training matrices for fitting\n",
    "\n",
    "### Stateful LSTM"
   ]
  },
  {
   "cell_type": "code",
   "execution_count": null,
   "metadata": {
    "collapsed": true
   },
   "outputs": [],
   "source": [
    "\n",
    "\n",
    "from sklearn import preprocessing\n",
    "scaler = preprocessing.StandardScaler().fit( trainX )\n",
    "trainXscaled = scaler.transform(trainX)\n",
    "\n",
    "batch_size_ = 4\n",
    "\n",
    "\n",
    "\n",
    "lstmTrainX = np.zeros([trainXscaled.shape[0], timesteps, 2])\n",
    "lstmTrainY = np.zeros(trainXscaled.shape[0])\n",
    "\n",
    "for i in range(timesteps, trainXscaled.shape[0]):\n",
    "    lstmTrainX[i, :, :] = trainX[i-timesteps:i,:]\n",
    "    lstmTrainY[i] = trainY[i]\n",
    "\n",
    "from sklearn.utils import shuffle\n",
    "lstmTrainX, lstmTrainY = shuffle(lstmTrainX, lstmTrainY)\n",
    "\n",
    "hist = model.fit(lstmTrainX, lstmTrainY, nb_epoch=100, batch_size=batch_size_, verbose = 1, validation_split=0.2, shuffle=True)\n",
    "\n",
    "plt.plot(np.log(hist.history['loss']), 'b.')\n",
    "plt.plot(np.log(hist.history['val_loss']), 'r.')\n",
    "plt.show()"
   ]
  },
  {
   "cell_type": "markdown",
   "metadata": {},
   "source": [
    "##  Prediction of time-series samples\n"
   ]
  },
  {
   "cell_type": "code",
   "execution_count": null,
   "metadata": {
    "collapsed": true
   },
   "outputs": [],
   "source": [
    "predY = model.predict(lstmTrainX, batch_size = 2)\n",
    "plt.plot(x1, y, 'r.')\n",
    "plt.plot(lstmTrainX[0:,0], predY[0:], 'b.')"
   ]
  }
 ],
 "metadata": {
  "kernelspec": {
   "display_name": "Python 3",
   "language": "python",
   "name": "python3"
  },
  "language_info": {
   "codemirror_mode": {
    "name": "ipython",
    "version": 3
   },
   "file_extension": ".py",
   "mimetype": "text/x-python",
   "name": "python",
   "nbconvert_exporter": "python",
   "pygments_lexer": "ipython3",
   "version": "3.5.2"
  }
 },
 "nbformat": 4,
 "nbformat_minor": 1
}
